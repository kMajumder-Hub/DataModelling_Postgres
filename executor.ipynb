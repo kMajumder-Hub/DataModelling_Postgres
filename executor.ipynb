{
 "cells": [
  {
   "cell_type": "code",
   "execution_count": 3,
   "metadata": {
    "editable": true
   },
   "outputs": [],
   "source": [
    "#Create Schema\n",
    "#Drop tables\n",
    "#Create the tables\n",
    "%run -i 'create_tables.py'"
   ]
  },
  {
   "cell_type": "code",
   "execution_count": 4,
   "metadata": {
    "editable": true
   },
   "outputs": [
    {
     "name": "stdout",
     "output_type": "stream",
     "text": [
      "79 files found in data/song_data\n",
      "1/79 files processed.\n",
      "2/79 files processed.\n",
      "3/79 files processed.\n",
      "4/79 files processed.\n",
      "5/79 files processed.\n",
      "6/79 files processed.\n",
      "7/79 files processed.\n",
      "8/79 files processed.\n",
      "9/79 files processed.\n",
      "10/79 files processed.\n",
      "11/79 files processed.\n",
      "12/79 files processed.\n",
      "13/79 files processed.\n",
      "14/79 files processed.\n",
      "15/79 files processed.\n",
      "16/79 files processed.\n",
      "17/79 files processed.\n",
      "18/79 files processed.\n",
      "19/79 files processed.\n",
      "20/79 files processed.\n",
      "21/79 files processed.\n",
      "22/79 files processed.\n",
      "23/79 files processed.\n",
      "24/79 files processed.\n",
      "25/79 files processed.\n",
      "26/79 files processed.\n",
      "27/79 files processed.\n",
      "28/79 files processed.\n",
      "29/79 files processed.\n",
      "30/79 files processed.\n",
      "31/79 files processed.\n",
      "32/79 files processed.\n",
      "33/79 files processed.\n",
      "34/79 files processed.\n",
      "35/79 files processed.\n",
      "36/79 files processed.\n",
      "37/79 files processed.\n",
      "38/79 files processed.\n",
      "39/79 files processed.\n",
      "40/79 files processed.\n",
      "41/79 files processed.\n",
      "42/79 files processed.\n",
      "43/79 files processed.\n",
      "44/79 files processed.\n",
      "45/79 files processed.\n",
      "46/79 files processed.\n",
      "47/79 files processed.\n",
      "48/79 files processed.\n",
      "49/79 files processed.\n",
      "50/79 files processed.\n",
      "51/79 files processed.\n",
      "52/79 files processed.\n",
      "53/79 files processed.\n",
      "54/79 files processed.\n",
      "55/79 files processed.\n",
      "56/79 files processed.\n",
      "57/79 files processed.\n",
      "58/79 files processed.\n",
      "59/79 files processed.\n",
      "60/79 files processed.\n",
      "61/79 files processed.\n",
      "62/79 files processed.\n",
      "63/79 files processed.\n",
      "64/79 files processed.\n",
      "65/79 files processed.\n",
      "66/79 files processed.\n",
      "67/79 files processed.\n",
      "68/79 files processed.\n",
      "69/79 files processed.\n",
      "70/79 files processed.\n",
      "71/79 files processed.\n",
      "72/79 files processed.\n",
      "73/79 files processed.\n",
      "74/79 files processed.\n",
      "75/79 files processed.\n",
      "76/79 files processed.\n",
      "77/79 files processed.\n",
      "78/79 files processed.\n",
      "79/79 files processed.\n",
      "30 files found in data/log_data\n",
      "1/30 files processed.\n",
      "2/30 files processed.\n",
      "3/30 files processed.\n",
      "4/30 files processed.\n",
      "5/30 files processed.\n",
      "6/30 files processed.\n",
      "7/30 files processed.\n",
      "8/30 files processed.\n",
      "9/30 files processed.\n",
      "10/30 files processed.\n",
      "11/30 files processed.\n",
      "12/30 files processed.\n",
      "13/30 files processed.\n",
      "14/30 files processed.\n",
      "15/30 files processed.\n",
      "16/30 files processed.\n",
      "17/30 files processed.\n",
      "18/30 files processed.\n",
      "19/30 files processed.\n",
      "20/30 files processed.\n",
      "21/30 files processed.\n",
      "22/30 files processed.\n",
      "23/30 files processed.\n",
      "24/30 files processed.\n",
      "25/30 files processed.\n",
      "26/30 files processed.\n",
      "27/30 files processed.\n",
      "28/30 files processed.\n",
      "29/30 files processed.\n",
      "30/30 files processed.\n"
     ]
    }
   ],
   "source": [
    "#Process song JSON\n",
    "#Process log JSON\n",
    "%run -i 'etl.py'"
   ]
  },
  {
   "cell_type": "code",
   "execution_count": null,
   "metadata": {
    "editable": true
   },
   "outputs": [],
   "source": []
  }
 ],
 "metadata": {
  "kernelspec": {
   "display_name": "Python 3",
   "language": "python",
   "name": "python3"
  },
  "language_info": {
   "codemirror_mode": {
    "name": "ipython",
    "version": 3
   },
   "file_extension": ".py",
   "mimetype": "text/x-python",
   "name": "python",
   "nbconvert_exporter": "python",
   "pygments_lexer": "ipython3",
   "version": "3.6.3"
  }
 },
 "nbformat": 4,
 "nbformat_minor": 4
}
